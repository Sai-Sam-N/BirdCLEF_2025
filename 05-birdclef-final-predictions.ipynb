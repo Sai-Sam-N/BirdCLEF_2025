{
 "cells": [
  {
   "cell_type": "markdown",
   "id": "ad925dee",
   "metadata": {
    "papermill": {
     "duration": 0.003228,
     "end_time": "2025-06-05T23:10:30.324785",
     "exception": false,
     "start_time": "2025-06-05T23:10:30.321557",
     "status": "completed"
    },
    "tags": []
   },
   "source": [
    "Please refer to : https://github.com/Sai-Sam-N/BirdCLEF_2025_KaggleCompetition \n",
    "\n",
    "Separate notebooks were used for EDA, Feature engineering to extract pre-processed mels, Using pre-trained resnet model to train a custom model for this use-case, detailed walkthrough present in the Readme.md file. \n",
    "\n",
    "Thank you!"
   ]
  },
  {
   "cell_type": "code",
   "execution_count": 1,
   "id": "65209641",
   "metadata": {
    "_cell_guid": "b1076dfc-b9ad-4769-8c92-a6c4dae69d19",
    "_uuid": "8f2839f25d086af736a60e9eeb907d3b93b6e0e5",
    "execution": {
     "iopub.execute_input": "2025-06-05T23:10:30.331040Z",
     "iopub.status.busy": "2025-06-05T23:10:30.330778Z",
     "iopub.status.idle": "2025-06-05T23:10:41.033956Z",
     "shell.execute_reply": "2025-06-05T23:10:41.033304Z"
    },
    "papermill": {
     "duration": 10.708025,
     "end_time": "2025-06-05T23:10:41.035431",
     "exception": false,
     "start_time": "2025-06-05T23:10:30.327406",
     "status": "completed"
    },
    "tags": []
   },
   "outputs": [],
   "source": [
    "import os\n",
    "import torch\n",
    "import torchaudio\n",
    "import pandas as pd\n",
    "import numpy as np\n",
    "from tqdm import tqdm\n",
    "import torchaudio.transforms as T\n",
    "from pathlib import Path\n",
    "import torch.nn as nn\n",
    "import torch.nn.functional as F\n",
    "from torch.utils.data import Dataset, DataLoader, random_split\n",
    "from torchvision import models"
   ]
  },
  {
   "cell_type": "code",
   "execution_count": 2,
   "id": "0885cd36",
   "metadata": {
    "execution": {
     "iopub.execute_input": "2025-06-05T23:10:41.041974Z",
     "iopub.status.busy": "2025-06-05T23:10:41.041679Z",
     "iopub.status.idle": "2025-06-05T23:10:41.045328Z",
     "shell.execute_reply": "2025-06-05T23:10:41.044769Z"
    },
    "papermill": {
     "duration": 0.008183,
     "end_time": "2025-06-05T23:10:41.046679",
     "exception": false,
     "start_time": "2025-06-05T23:10:41.038496",
     "status": "completed"
    },
    "tags": []
   },
   "outputs": [],
   "source": [
    "BASE_DIR = r'/kaggle/input/birdclef-2025/'\n",
    "MODEL_PATH = r'/kaggle/input/birdclef_trained_resnet_model/pytorch/v1/1/baseline_model.pt'\n",
    "TEST_DIR = os.path.join(BASE_DIR, 'test_soundscapes')\n",
    "SAMPLE_SUBMISSION_PATH = os.path.join(BASE_DIR, \"sample_submission.csv\")"
   ]
  },
  {
   "cell_type": "code",
   "execution_count": 3,
   "id": "b6ab95ec",
   "metadata": {
    "execution": {
     "iopub.execute_input": "2025-06-05T23:10:41.052918Z",
     "iopub.status.busy": "2025-06-05T23:10:41.052721Z",
     "iopub.status.idle": "2025-06-05T23:10:41.056802Z",
     "shell.execute_reply": "2025-06-05T23:10:41.056265Z"
    },
    "papermill": {
     "duration": 0.00805,
     "end_time": "2025-06-05T23:10:41.057713",
     "exception": false,
     "start_time": "2025-06-05T23:10:41.049663",
     "status": "completed"
    },
    "tags": []
   },
   "outputs": [],
   "source": [
    "class BirdCLEFModel(nn.Module):\n",
    "    def __init__(self):\n",
    "        super().__init__()\n",
    "        self.backbone = models.resnet18()\n",
    "        self.backbone.conv1 = nn.Conv2d(1, 64, kernel_size=7, stride=2, padding=3, bias=False)\n",
    "        self.backbone.fc = nn.Linear(self.backbone.fc.in_features, NUM_CLASSES)\n",
    "\n",
    "    def forward(self, x):\n",
    "        return self.backbone(x)"
   ]
  },
  {
   "cell_type": "code",
   "execution_count": 4,
   "id": "8eec3651",
   "metadata": {
    "execution": {
     "iopub.execute_input": "2025-06-05T23:10:41.063510Z",
     "iopub.status.busy": "2025-06-05T23:10:41.063289Z",
     "iopub.status.idle": "2025-06-05T23:10:41.068988Z",
     "shell.execute_reply": "2025-06-05T23:10:41.068392Z"
    },
    "papermill": {
     "duration": 0.00965,
     "end_time": "2025-06-05T23:10:41.069980",
     "exception": false,
     "start_time": "2025-06-05T23:10:41.060330",
     "status": "completed"
    },
    "tags": []
   },
   "outputs": [],
   "source": [
    "DEVICE = torch.device(\"cuda\" if torch.cuda.is_available() else \"cpu\")\n",
    "SAMPLE_RATE = 32000\n",
    "DURATION = 5\n",
    "NUM_SAMPLES = SAMPLE_RATE * DURATION\n",
    "N_MELS = 128\n",
    "TEST_AUDIO_DIR = \"/kaggle/input/birdclef-2025/test_soundscapes\"\n",
    "LABELS_CSV = os.path.join(BASE_DIR, 'train.csv')\n",
    "SUBMISSION_PATH = os.path.join(r'/kaggle/working/', \"submission.csv\")\n",
    "NUM_CLASSES = 206"
   ]
  },
  {
   "cell_type": "code",
   "execution_count": 5,
   "id": "4b5384da",
   "metadata": {
    "execution": {
     "iopub.execute_input": "2025-06-05T23:10:41.075859Z",
     "iopub.status.busy": "2025-06-05T23:10:41.075656Z",
     "iopub.status.idle": "2025-06-05T23:10:41.079676Z",
     "shell.execute_reply": "2025-06-05T23:10:41.078900Z"
    },
    "papermill": {
     "duration": 0.008344,
     "end_time": "2025-06-05T23:10:41.080946",
     "exception": false,
     "start_time": "2025-06-05T23:10:41.072602",
     "status": "completed"
    },
    "tags": []
   },
   "outputs": [],
   "source": [
    "def convert_base_to_backbone(state_dict):\n",
    "    new_state_dict = {}\n",
    "    for k, v in state_dict.items():\n",
    "        if k.startswith(\"base.\"):\n",
    "            new_k = k.replace(\"base.\", \"backbone.\")\n",
    "        else:\n",
    "            new_k = k\n",
    "        new_state_dict[new_k] = v\n",
    "    return new_state_dict"
   ]
  },
  {
   "cell_type": "code",
   "execution_count": 6,
   "id": "cff94575",
   "metadata": {
    "execution": {
     "iopub.execute_input": "2025-06-05T23:10:41.087327Z",
     "iopub.status.busy": "2025-06-05T23:10:41.087046Z",
     "iopub.status.idle": "2025-06-05T23:10:42.347967Z",
     "shell.execute_reply": "2025-06-05T23:10:42.347365Z"
    },
    "papermill": {
     "duration": 1.265014,
     "end_time": "2025-06-05T23:10:42.348925",
     "exception": false,
     "start_time": "2025-06-05T23:10:41.083911",
     "status": "completed"
    },
    "tags": []
   },
   "outputs": [
    {
     "data": {
      "text/plain": [
       "BirdCLEFModel(\n",
       "  (backbone): ResNet(\n",
       "    (conv1): Conv2d(1, 64, kernel_size=(7, 7), stride=(2, 2), padding=(3, 3), bias=False)\n",
       "    (bn1): BatchNorm2d(64, eps=1e-05, momentum=0.1, affine=True, track_running_stats=True)\n",
       "    (relu): ReLU(inplace=True)\n",
       "    (maxpool): MaxPool2d(kernel_size=3, stride=2, padding=1, dilation=1, ceil_mode=False)\n",
       "    (layer1): Sequential(\n",
       "      (0): BasicBlock(\n",
       "        (conv1): Conv2d(64, 64, kernel_size=(3, 3), stride=(1, 1), padding=(1, 1), bias=False)\n",
       "        (bn1): BatchNorm2d(64, eps=1e-05, momentum=0.1, affine=True, track_running_stats=True)\n",
       "        (relu): ReLU(inplace=True)\n",
       "        (conv2): Conv2d(64, 64, kernel_size=(3, 3), stride=(1, 1), padding=(1, 1), bias=False)\n",
       "        (bn2): BatchNorm2d(64, eps=1e-05, momentum=0.1, affine=True, track_running_stats=True)\n",
       "      )\n",
       "      (1): BasicBlock(\n",
       "        (conv1): Conv2d(64, 64, kernel_size=(3, 3), stride=(1, 1), padding=(1, 1), bias=False)\n",
       "        (bn1): BatchNorm2d(64, eps=1e-05, momentum=0.1, affine=True, track_running_stats=True)\n",
       "        (relu): ReLU(inplace=True)\n",
       "        (conv2): Conv2d(64, 64, kernel_size=(3, 3), stride=(1, 1), padding=(1, 1), bias=False)\n",
       "        (bn2): BatchNorm2d(64, eps=1e-05, momentum=0.1, affine=True, track_running_stats=True)\n",
       "      )\n",
       "    )\n",
       "    (layer2): Sequential(\n",
       "      (0): BasicBlock(\n",
       "        (conv1): Conv2d(64, 128, kernel_size=(3, 3), stride=(2, 2), padding=(1, 1), bias=False)\n",
       "        (bn1): BatchNorm2d(128, eps=1e-05, momentum=0.1, affine=True, track_running_stats=True)\n",
       "        (relu): ReLU(inplace=True)\n",
       "        (conv2): Conv2d(128, 128, kernel_size=(3, 3), stride=(1, 1), padding=(1, 1), bias=False)\n",
       "        (bn2): BatchNorm2d(128, eps=1e-05, momentum=0.1, affine=True, track_running_stats=True)\n",
       "        (downsample): Sequential(\n",
       "          (0): Conv2d(64, 128, kernel_size=(1, 1), stride=(2, 2), bias=False)\n",
       "          (1): BatchNorm2d(128, eps=1e-05, momentum=0.1, affine=True, track_running_stats=True)\n",
       "        )\n",
       "      )\n",
       "      (1): BasicBlock(\n",
       "        (conv1): Conv2d(128, 128, kernel_size=(3, 3), stride=(1, 1), padding=(1, 1), bias=False)\n",
       "        (bn1): BatchNorm2d(128, eps=1e-05, momentum=0.1, affine=True, track_running_stats=True)\n",
       "        (relu): ReLU(inplace=True)\n",
       "        (conv2): Conv2d(128, 128, kernel_size=(3, 3), stride=(1, 1), padding=(1, 1), bias=False)\n",
       "        (bn2): BatchNorm2d(128, eps=1e-05, momentum=0.1, affine=True, track_running_stats=True)\n",
       "      )\n",
       "    )\n",
       "    (layer3): Sequential(\n",
       "      (0): BasicBlock(\n",
       "        (conv1): Conv2d(128, 256, kernel_size=(3, 3), stride=(2, 2), padding=(1, 1), bias=False)\n",
       "        (bn1): BatchNorm2d(256, eps=1e-05, momentum=0.1, affine=True, track_running_stats=True)\n",
       "        (relu): ReLU(inplace=True)\n",
       "        (conv2): Conv2d(256, 256, kernel_size=(3, 3), stride=(1, 1), padding=(1, 1), bias=False)\n",
       "        (bn2): BatchNorm2d(256, eps=1e-05, momentum=0.1, affine=True, track_running_stats=True)\n",
       "        (downsample): Sequential(\n",
       "          (0): Conv2d(128, 256, kernel_size=(1, 1), stride=(2, 2), bias=False)\n",
       "          (1): BatchNorm2d(256, eps=1e-05, momentum=0.1, affine=True, track_running_stats=True)\n",
       "        )\n",
       "      )\n",
       "      (1): BasicBlock(\n",
       "        (conv1): Conv2d(256, 256, kernel_size=(3, 3), stride=(1, 1), padding=(1, 1), bias=False)\n",
       "        (bn1): BatchNorm2d(256, eps=1e-05, momentum=0.1, affine=True, track_running_stats=True)\n",
       "        (relu): ReLU(inplace=True)\n",
       "        (conv2): Conv2d(256, 256, kernel_size=(3, 3), stride=(1, 1), padding=(1, 1), bias=False)\n",
       "        (bn2): BatchNorm2d(256, eps=1e-05, momentum=0.1, affine=True, track_running_stats=True)\n",
       "      )\n",
       "    )\n",
       "    (layer4): Sequential(\n",
       "      (0): BasicBlock(\n",
       "        (conv1): Conv2d(256, 512, kernel_size=(3, 3), stride=(2, 2), padding=(1, 1), bias=False)\n",
       "        (bn1): BatchNorm2d(512, eps=1e-05, momentum=0.1, affine=True, track_running_stats=True)\n",
       "        (relu): ReLU(inplace=True)\n",
       "        (conv2): Conv2d(512, 512, kernel_size=(3, 3), stride=(1, 1), padding=(1, 1), bias=False)\n",
       "        (bn2): BatchNorm2d(512, eps=1e-05, momentum=0.1, affine=True, track_running_stats=True)\n",
       "        (downsample): Sequential(\n",
       "          (0): Conv2d(256, 512, kernel_size=(1, 1), stride=(2, 2), bias=False)\n",
       "          (1): BatchNorm2d(512, eps=1e-05, momentum=0.1, affine=True, track_running_stats=True)\n",
       "        )\n",
       "      )\n",
       "      (1): BasicBlock(\n",
       "        (conv1): Conv2d(512, 512, kernel_size=(3, 3), stride=(1, 1), padding=(1, 1), bias=False)\n",
       "        (bn1): BatchNorm2d(512, eps=1e-05, momentum=0.1, affine=True, track_running_stats=True)\n",
       "        (relu): ReLU(inplace=True)\n",
       "        (conv2): Conv2d(512, 512, kernel_size=(3, 3), stride=(1, 1), padding=(1, 1), bias=False)\n",
       "        (bn2): BatchNorm2d(512, eps=1e-05, momentum=0.1, affine=True, track_running_stats=True)\n",
       "      )\n",
       "    )\n",
       "    (avgpool): AdaptiveAvgPool2d(output_size=(1, 1))\n",
       "    (fc): Linear(in_features=512, out_features=206, bias=True)\n",
       "  )\n",
       ")"
      ]
     },
     "execution_count": 6,
     "metadata": {},
     "output_type": "execute_result"
    }
   ],
   "source": [
    "state_dict = torch.load(MODEL_PATH, map_location=DEVICE)\n",
    "converted_state_dict = convert_base_to_backbone(state_dict)\n",
    "\n",
    "model = BirdCLEFModel().to(DEVICE)\n",
    "model.load_state_dict(converted_state_dict)\n",
    "model.eval()"
   ]
  },
  {
   "cell_type": "code",
   "execution_count": 7,
   "id": "32c397d9",
   "metadata": {
    "execution": {
     "iopub.execute_input": "2025-06-05T23:10:42.355242Z",
     "iopub.status.busy": "2025-06-05T23:10:42.354999Z",
     "iopub.status.idle": "2025-06-05T23:10:42.372968Z",
     "shell.execute_reply": "2025-06-05T23:10:42.372469Z"
    },
    "papermill": {
     "duration": 0.022334,
     "end_time": "2025-06-05T23:10:42.374155",
     "exception": false,
     "start_time": "2025-06-05T23:10:42.351821",
     "status": "completed"
    },
    "tags": []
   },
   "outputs": [],
   "source": [
    "taxonomy_df = pd.read_csv(os.path.join(BASE_DIR, \"taxonomy.csv\"))\n",
    "species_list = taxonomy_df['primary_label'].unique().tolist() "
   ]
  },
  {
   "cell_type": "code",
   "execution_count": 8,
   "id": "f9241c87",
   "metadata": {
    "execution": {
     "iopub.execute_input": "2025-06-05T23:10:42.380544Z",
     "iopub.status.busy": "2025-06-05T23:10:42.380364Z",
     "iopub.status.idle": "2025-06-05T23:10:42.517434Z",
     "shell.execute_reply": "2025-06-05T23:10:42.516725Z"
    },
    "papermill": {
     "duration": 0.141699,
     "end_time": "2025-06-05T23:10:42.518882",
     "exception": false,
     "start_time": "2025-06-05T23:10:42.377183",
     "status": "completed"
    },
    "tags": []
   },
   "outputs": [],
   "source": [
    "labels_df = pd.read_csv(LABELS_CSV)\n",
    "labels_df['class_index'] = labels_df['primary_label'].astype('category').cat.codes\n",
    "class_map = labels_df[['primary_label', 'class_index']].drop_duplicates().sort_values('class_index')\n",
    "idx_to_label = class_map['primary_label'].tolist()"
   ]
  },
  {
   "cell_type": "code",
   "execution_count": 9,
   "id": "a28eb52b",
   "metadata": {
    "execution": {
     "iopub.execute_input": "2025-06-05T23:10:42.525725Z",
     "iopub.status.busy": "2025-06-05T23:10:42.525151Z",
     "iopub.status.idle": "2025-06-05T23:10:42.567619Z",
     "shell.execute_reply": "2025-06-05T23:10:42.566879Z"
    },
    "papermill": {
     "duration": 0.047294,
     "end_time": "2025-06-05T23:10:42.569156",
     "exception": false,
     "start_time": "2025-06-05T23:10:42.521862",
     "status": "completed"
    },
    "tags": []
   },
   "outputs": [],
   "source": [
    "mel_transform = T.MelSpectrogram(\n",
    "    sample_rate=SAMPLE_RATE,\n",
    "    n_fft=1024,\n",
    "    hop_length=512,\n",
    "    n_mels=N_MELS\n",
    ")"
   ]
  },
  {
   "cell_type": "code",
   "execution_count": 10,
   "id": "a73f6508",
   "metadata": {
    "execution": {
     "iopub.execute_input": "2025-06-05T23:10:42.576240Z",
     "iopub.status.busy": "2025-06-05T23:10:42.575801Z",
     "iopub.status.idle": "2025-06-05T23:10:42.580092Z",
     "shell.execute_reply": "2025-06-05T23:10:42.579446Z"
    },
    "papermill": {
     "duration": 0.008908,
     "end_time": "2025-06-05T23:10:42.581315",
     "exception": false,
     "start_time": "2025-06-05T23:10:42.572407",
     "status": "completed"
    },
    "tags": []
   },
   "outputs": [],
   "source": [
    "amplitude_to_db = T.AmplitudeToDB()"
   ]
  },
  {
   "cell_type": "code",
   "execution_count": 11,
   "id": "7ac80279",
   "metadata": {
    "execution": {
     "iopub.execute_input": "2025-06-05T23:10:42.587881Z",
     "iopub.status.busy": "2025-06-05T23:10:42.587623Z",
     "iopub.status.idle": "2025-06-05T23:10:42.592034Z",
     "shell.execute_reply": "2025-06-05T23:10:42.591477Z"
    },
    "papermill": {
     "duration": 0.008951,
     "end_time": "2025-06-05T23:10:42.593267",
     "exception": false,
     "start_time": "2025-06-05T23:10:42.584316",
     "status": "completed"
    },
    "tags": []
   },
   "outputs": [],
   "source": [
    "def preprocess_waveform(waveform, sr):\n",
    "    if sr != SAMPLE_RATE:\n",
    "        resampler = T.Resample(sr, SAMPLE_RATE)\n",
    "        waveform = resampler(waveform)\n",
    "    if waveform.ndim > 1:\n",
    "        waveform = waveform.mean(dim=0)\n",
    "    return waveform\n",
    "\n",
    "def waveform_to_logmel(waveform):\n",
    "    mel_spec = mel_transform(waveform)\n",
    "    logmel = amplitude_to_db(mel_spec)\n",
    "    logmel = (logmel - logmel.mean()) / logmel.std()\n",
    "    return logmel.unsqueeze(0)"
   ]
  },
  {
   "cell_type": "code",
   "execution_count": 12,
   "id": "5755b328",
   "metadata": {
    "execution": {
     "iopub.execute_input": "2025-06-05T23:10:42.600305Z",
     "iopub.status.busy": "2025-06-05T23:10:42.600041Z",
     "iopub.status.idle": "2025-06-05T23:10:42.612514Z",
     "shell.execute_reply": "2025-06-05T23:10:42.611831Z"
    },
    "papermill": {
     "duration": 0.016653,
     "end_time": "2025-06-05T23:10:42.613532",
     "exception": false,
     "start_time": "2025-06-05T23:10:42.596879",
     "status": "completed"
    },
    "tags": []
   },
   "outputs": [
    {
     "name": "stderr",
     "output_type": "stream",
     "text": [
      "100%|██████████| 1/1 [00:00<00:00, 11428.62it/s]\n"
     ]
    }
   ],
   "source": [
    "submission_rows = []\n",
    "segment_duration = 5  # seconds\n",
    "stride = 5  # non-overlapping\n",
    "\n",
    "for file in tqdm(os.listdir(TEST_AUDIO_DIR)):\n",
    "    if not file.endswith(\".ogg\"):\n",
    "        continue\n",
    "\n",
    "    path = os.path.join(TEST_AUDIO_DIR, file)\n",
    "    waveform, sr = torchaudio.load(path)\n",
    "    waveform = preprocess_waveform(waveform, sr)\n",
    "\n",
    "    total_samples = waveform.shape[0]\n",
    "    num_segments = max(1, total_samples // NUM_SAMPLES)\n",
    "\n",
    "    for i in range(num_segments):\n",
    "        start_sample = i * NUM_SAMPLES\n",
    "        segment = waveform[start_sample:start_sample + NUM_SAMPLES]\n",
    "\n",
    "        if segment.shape[0] < NUM_SAMPLES:\n",
    "            pad = NUM_SAMPLES - segment.shape[0]\n",
    "            segment = torch.nn.functional.pad(segment, (0, pad))\n",
    "\n",
    "        logmel = waveform_to_logmel(segment)\n",
    "        logmel = logmel.to(DEVICE)\n",
    "        logmel = logmel.unsqueeze(0) \n",
    "\n",
    "\n",
    "        with torch.no_grad():\n",
    "            preds = model(logmel).sigmoid().cpu().numpy()[0]\n",
    "\n",
    "        row_id = f\"{file.replace('.ogg','')}_{(i+1)*5}\"\n",
    "        row = [row_id] + preds.tolist()\n",
    "        print(f\"Processed {file}, segment {i+1}, row_id: {row_id}, max_pred: {preds.max():.4f}\")\n",
    "        submission_rows.append(row)"
   ]
  },
  {
   "cell_type": "code",
   "execution_count": 13,
   "id": "e78d80c0",
   "metadata": {
    "execution": {
     "iopub.execute_input": "2025-06-05T23:10:42.620134Z",
     "iopub.status.busy": "2025-06-05T23:10:42.619913Z",
     "iopub.status.idle": "2025-06-05T23:10:42.632597Z",
     "shell.execute_reply": "2025-06-05T23:10:42.631973Z"
    },
    "papermill": {
     "duration": 0.017073,
     "end_time": "2025-06-05T23:10:42.633702",
     "exception": false,
     "start_time": "2025-06-05T23:10:42.616629",
     "status": "completed"
    },
    "tags": []
   },
   "outputs": [],
   "source": [
    "sample_sub = pd.read_csv(\"/kaggle/input/birdclef-2025/sample_submission.csv\")\n",
    "species_cols = sample_sub.columns[1:]  \n",
    "submission_df = pd.DataFrame(submission_rows, columns=['row_id'] + idx_to_label)"
   ]
  },
  {
   "cell_type": "code",
   "execution_count": 14,
   "id": "9f37c840",
   "metadata": {
    "execution": {
     "iopub.execute_input": "2025-06-05T23:10:42.640466Z",
     "iopub.status.busy": "2025-06-05T23:10:42.640223Z",
     "iopub.status.idle": "2025-06-05T23:10:42.644483Z",
     "shell.execute_reply": "2025-06-05T23:10:42.643844Z"
    },
    "papermill": {
     "duration": 0.008824,
     "end_time": "2025-06-05T23:10:42.645540",
     "exception": false,
     "start_time": "2025-06-05T23:10:42.636716",
     "status": "completed"
    },
    "tags": []
   },
   "outputs": [
    {
     "data": {
      "text/plain": [
       "[]"
      ]
     },
     "execution_count": 14,
     "metadata": {},
     "output_type": "execute_result"
    }
   ],
   "source": [
    "submission_rows"
   ]
  },
  {
   "cell_type": "code",
   "execution_count": 15,
   "id": "74e055a7",
   "metadata": {
    "execution": {
     "iopub.execute_input": "2025-06-05T23:10:42.651891Z",
     "iopub.status.busy": "2025-06-05T23:10:42.651696Z",
     "iopub.status.idle": "2025-06-05T23:10:42.655948Z",
     "shell.execute_reply": "2025-06-05T23:10:42.655420Z"
    },
    "papermill": {
     "duration": 0.008479,
     "end_time": "2025-06-05T23:10:42.656964",
     "exception": false,
     "start_time": "2025-06-05T23:10:42.648485",
     "status": "completed"
    },
    "tags": []
   },
   "outputs": [],
   "source": [
    "submission_df = submission_df[['row_id'] + list(species_cols)]"
   ]
  },
  {
   "cell_type": "code",
   "execution_count": 16,
   "id": "1602ae69",
   "metadata": {
    "execution": {
     "iopub.execute_input": "2025-06-05T23:10:42.663543Z",
     "iopub.status.busy": "2025-06-05T23:10:42.663382Z",
     "iopub.status.idle": "2025-06-05T23:10:42.670725Z",
     "shell.execute_reply": "2025-06-05T23:10:42.670065Z"
    },
    "papermill": {
     "duration": 0.011431,
     "end_time": "2025-06-05T23:10:42.671619",
     "exception": false,
     "start_time": "2025-06-05T23:10:42.660188",
     "status": "completed"
    },
    "tags": []
   },
   "outputs": [
    {
     "name": "stdout",
     "output_type": "stream",
     "text": [
      "Empty DataFrame\n",
      "Columns: [row_id, 1139490, 1192948, 1194042, 126247, 1346504, 134933, 135045, 1462711, 1462737, 1564122, 21038, 21116, 21211, 22333, 22973, 22976, 24272, 24292, 24322, 41663, 41778, 41970, 42007, 42087, 42113, 46010, 47067, 476537, 476538, 48124, 50186, 517119, 523060, 528041, 52884, 548639, 555086, 555142, 566513, 64862, 65336, 65344, 65349, 65373, 65419, 65448, 65547, 65962, 66016, 66531, 66578, 66893, 67082, 67252, 714022, 715170, 787625, 81930, 868458, 963335, amakin1, amekes, ampkin1, anhing, babwar, bafibi1, banana, baymac, bbwduc, bicwre1, bkcdon, bkmtou1, blbgra1, blbwre1, blcant4, blchaw1, blcjay1, blctit1, blhpar1, blkvul, bobfly1, bobher1, brtpar1, bubcur1, bubwre1, bucmot3, bugtan, butsal1, cargra1, cattyr, chbant1, chfmac1, cinbec1, cocher1, cocwoo1, colara1, colcha1, compau, compot1, ...]\n",
      "Index: []\n",
      "\n",
      "[0 rows x 207 columns]\n"
     ]
    }
   ],
   "source": [
    "print(submission_df.head())"
   ]
  },
  {
   "cell_type": "code",
   "execution_count": 17,
   "id": "84ccfa14",
   "metadata": {
    "execution": {
     "iopub.execute_input": "2025-06-05T23:10:42.679161Z",
     "iopub.status.busy": "2025-06-05T23:10:42.678919Z",
     "iopub.status.idle": "2025-06-05T23:10:42.685350Z",
     "shell.execute_reply": "2025-06-05T23:10:42.684804Z"
    },
    "papermill": {
     "duration": 0.011503,
     "end_time": "2025-06-05T23:10:42.686410",
     "exception": false,
     "start_time": "2025-06-05T23:10:42.674907",
     "status": "completed"
    },
    "tags": []
   },
   "outputs": [],
   "source": [
    "submission_df.to_csv(SUBMISSION_PATH, index=False) "
   ]
  },
  {
   "cell_type": "code",
   "execution_count": 18,
   "id": "bdaa37ef",
   "metadata": {
    "execution": {
     "iopub.execute_input": "2025-06-05T23:10:42.693170Z",
     "iopub.status.busy": "2025-06-05T23:10:42.692966Z",
     "iopub.status.idle": "2025-06-05T23:10:42.696238Z",
     "shell.execute_reply": "2025-06-05T23:10:42.695577Z"
    },
    "papermill": {
     "duration": 0.007803,
     "end_time": "2025-06-05T23:10:42.697404",
     "exception": false,
     "start_time": "2025-06-05T23:10:42.689601",
     "status": "completed"
    },
    "tags": []
   },
   "outputs": [
    {
     "name": "stdout",
     "output_type": "stream",
     "text": [
      "Submission file saved to : /kaggle/working/submission.csv\n"
     ]
    }
   ],
   "source": [
    "print(\"Submission file saved to :\", SUBMISSION_PATH)"
   ]
  },
  {
   "cell_type": "markdown",
   "id": "0c974d8b",
   "metadata": {
    "papermill": {
     "duration": 0.002822,
     "end_time": "2025-06-05T23:10:42.703607",
     "exception": false,
     "start_time": "2025-06-05T23:10:42.700785",
     "status": "completed"
    },
    "tags": []
   },
   "source": []
  }
 ],
 "metadata": {
  "kaggle": {
   "accelerator": "none",
   "dataSources": [
    {
     "databundleVersionId": 11361821,
     "sourceId": 91844,
     "sourceType": "competition"
    },
    {
     "modelId": 368717,
     "modelInstanceId": 347455,
     "sourceId": 426226,
     "sourceType": "modelInstanceVersion"
    }
   ],
   "dockerImageVersionId": 31040,
   "isGpuEnabled": false,
   "isInternetEnabled": false,
   "language": "python",
   "sourceType": "notebook"
  },
  "kernelspec": {
   "display_name": "Python 3",
   "language": "python",
   "name": "python3"
  },
  "language_info": {
   "codemirror_mode": {
    "name": "ipython",
    "version": 3
   },
   "file_extension": ".py",
   "mimetype": "text/x-python",
   "name": "python",
   "nbconvert_exporter": "python",
   "pygments_lexer": "ipython3",
   "version": "3.11.11"
  },
  "papermill": {
   "default_parameters": {},
   "duration": 17.845553,
   "end_time": "2025-06-05T23:10:44.728287",
   "environment_variables": {},
   "exception": null,
   "input_path": "__notebook__.ipynb",
   "output_path": "__notebook__.ipynb",
   "parameters": {},
   "start_time": "2025-06-05T23:10:26.882734",
   "version": "2.6.0"
  }
 },
 "nbformat": 4,
 "nbformat_minor": 5
}
